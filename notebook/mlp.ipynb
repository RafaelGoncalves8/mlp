{
 "cells": [
  {
   "cell_type": "markdown",
   "metadata": {},
   "source": [
    "# Loading dataset"
   ]
  },
  {
   "cell_type": "code",
   "execution_count": 1,
   "metadata": {},
   "outputs": [
    {
     "name": "stdout",
     "output_type": "stream",
     "text": [
      "Citation Request:\n",
      "  This dataset is public available for research. The details are described in [Cortez et al., 2009]. \n",
      "  Please include this citation if you plan to use this database:\n",
      "\n",
      "  P. Cortez, A. Cerdeira, F. Almeida, T. Matos and J. Reis. \n",
      "  Modeling wine preferences by data mining from physicochemical properties.\n",
      "  In Decision Support Systems, Elsevier, 47(4):547-553. ISSN: 0167-9236.\n",
      "\n",
      "  Available at: [@Elsevier] http://dx.doi.org/10.1016/j.dss.2009.05.016\n",
      "                [Pre-press (pdf)] http://www3.dsi.uminho.pt/pcortez/winequality09.pdf\n",
      "                [bib] http://www3.dsi.uminho.pt/pcortez/dss09.bib\n",
      "\n",
      "1. Title: Wine Quality \n",
      "\n",
      "2. Sources\n",
      "   Created by: Paulo Cortez (Univ. Minho), Antonio Cerdeira, Fernando Almeida, Telmo Matos and Jose Reis (CVRVV) @ 2009\n",
      "   \n",
      "3. Past Usage:\n",
      "\n",
      "  P. Cortez, A. Cerdeira, F. Almeida, T. Matos and J. Reis. \n",
      "  Modeling wine preferences by data mining from physicochemical properties.\n",
      "  In Decision Support Systems, Elsevier, 47(4):547-553. ISSN: 0167-9236.\n",
      "\n",
      "  In the above reference, two datasets were created, using red and white wine samples.\n",
      "  The inputs include objective tests (e.g. PH values) and the output is based on sensory data\n",
      "  (median of at least 3 evaluations made by wine experts). Each expert graded the wine quality \n",
      "  between 0 (very bad) and 10 (very excellent). Several data mining methods were applied to model\n",
      "  these datasets under a regression approach. The support vector machine model achieved the\n",
      "  best results. Several metrics were computed: MAD, confusion matrix for a fixed error tolerance (T),\n",
      "  etc. Also, we plot the relative importances of the input variables (as measured by a sensitivity\n",
      "  analysis procedure).\n",
      " \n",
      "4. Relevant Information:\n",
      "\n",
      "   The two datasets are related to red and white variants of the Portuguese \"Vinho Verde\" wine.\n",
      "   For more details, consult: http://www.vinhoverde.pt/en/ or the reference [Cortez et al., 2009].\n",
      "   Due to privacy and logistic issues, only physicochemical (inputs) and sensory (the output) variables \n",
      "   are available (e.g. there is no data about grape types, wine brand, wine selling price, etc.).\n",
      "\n",
      "   These datasets can be viewed as classification or regression tasks.\n",
      "   The classes are ordered and not balanced (e.g. there are munch more normal wines than\n",
      "   excellent or poor ones). Outlier detection algorithms could be used to detect the few excellent\n",
      "   or poor wines. Also, we are not sure if all input variables are relevant. So\n",
      "   it could be interesting to test feature selection methods. \n",
      "\n",
      "5. Number of Instances: red wine - 1599; white wine - 4898. \n",
      "\n",
      "6. Number of Attributes: 11 + output attribute\n",
      "  \n",
      "   Note: several of the attributes may be correlated, thus it makes sense to apply some sort of\n",
      "   feature selection.\n",
      "\n",
      "7. Attribute information:\n",
      "\n",
      "   For more information, read [Cortez et al., 2009].\n",
      "\n",
      "   Input variables (based on physicochemical tests):\n",
      "   1 - fixed acidity\n",
      "   2 - volatile acidity\n",
      "   3 - citric acid\n",
      "   4 - residual sugar\n",
      "   5 - chlorides\n",
      "   6 - free sulfur dioxide\n",
      "   7 - total sulfur dioxide\n",
      "   8 - density\n",
      "   9 - pH\n",
      "   10 - sulphates\n",
      "   11 - alcohol\n",
      "   Output variable (based on sensory data): \n",
      "   12 - quality (score between 0 and 10)\n",
      "\n",
      "8. Missing Attribute Values: None\n"
     ]
    }
   ],
   "source": [
    "!cat ../data/winequality.names"
   ]
  },
  {
   "cell_type": "code",
   "execution_count": 2,
   "metadata": {},
   "outputs": [
    {
     "name": "stdout",
     "output_type": "stream",
     "text": [
      "\"fixed acidity\";\"volatile acidity\";\"citric acid\";\"residual sugar\";\"chlorides\";\"free sulfur dioxide\";\"total sulfur dioxide\";\"density\";\"pH\";\"sulphates\";\"alcohol\";\"quality\"\n",
      "7.4;0.7;0;1.9;0.076;11;34;0.9978;3.51;0.56;9.4;5\n",
      "7.8;0.88;0;2.6;0.098;25;67;0.9968;3.2;0.68;9.8;5\n",
      "7.8;0.76;0.04;2.3;0.092;15;54;0.997;3.26;0.65;9.8;5\n",
      "11.2;0.28;0.56;1.9;0.075;17;60;0.998;3.16;0.58;9.8;6\n",
      "7.4;0.7;0;1.9;0.076;11;34;0.9978;3.51;0.56;9.4;5\n",
      "7.4;0.66;0;1.8;0.075;13;40;0.9978;3.51;0.56;9.4;5\n",
      "7.9;0.6;0.06;1.6;0.069;15;59;0.9964;3.3;0.46;9.4;5\n",
      "7.3;0.65;0;1.2;0.065;15;21;0.9946;3.39;0.47;10;7\n",
      "7.8;0.58;0.02;2;0.073;9;18;0.9968;3.36;0.57;9.5;7\n"
     ]
    }
   ],
   "source": [
    "!head ../data/winequality-red.csv"
   ]
  },
  {
   "cell_type": "code",
   "execution_count": 3,
   "metadata": {},
   "outputs": [
    {
     "name": "stdout",
     "output_type": "stream",
     "text": [
      "ans =\n",
      "\n",
      "   1599     12\n",
      "\n"
     ]
    }
   ],
   "source": [
    "data = dlmread(\"../data/winequality-red.csv\", \";\" ,1, 0); % skip feature names\n",
    "size(data)"
   ]
  },
  {
   "cell_type": "markdown",
   "metadata": {},
   "source": [
    "# Separating into training and testing set"
   ]
  },
  {
   "cell_type": "code",
   "execution_count": 4,
   "metadata": {},
   "outputs": [],
   "source": [
    "X = data(:,1:11); % inputs\n",
    "Y = data(:, 12);  % labels"
   ]
  },
  {
   "cell_type": "code",
   "execution_count": 5,
   "metadata": {},
   "outputs": [],
   "source": [
    "X_train = X(1:1119, :); % 70% for trainig\n",
    "Y_train = Y(1:1119);\n",
    "\n",
    "X_test = X(1120:1599, :);  % 30% for test\n",
    "Y_test = Y(1120:1599);"
   ]
  },
  {
   "cell_type": "markdown",
   "metadata": {},
   "source": [
    "# ANN Architecture"
   ]
  },
  {
   "cell_type": "markdown",
   "metadata": {},
   "source": [
    "![Diagram](../Diagram.png)"
   ]
  },
  {
   "cell_type": "code",
   "execution_count": 6,
   "metadata": {},
   "outputs": [
    {
     "name": "stdout",
     "output_type": "stream",
     "text": [
      "M =  1119\n",
      "N =  11\n"
     ]
    }
   ],
   "source": [
    "% M number of labeled inputs\n",
    "% N number of features (lenght of input vector)\n",
    "[M, N] = size(X_train)"
   ]
  },
  {
   "cell_type": "code",
   "execution_count": 7,
   "metadata": {},
   "outputs": [
    {
     "name": "stdout",
     "output_type": "stream",
     "text": [
      "O =  10\n"
     ]
    }
   ],
   "source": [
    "O = 10 % number of neurons in the hidden layer"
   ]
  },
  {
   "cell_type": "code",
   "execution_count": 8,
   "metadata": {},
   "outputs": [],
   "source": [
    "% initial weights matrix as small random values\n",
    "W = rand([O N]).*0.01; % W: OxN"
   ]
  },
  {
   "cell_type": "code",
   "execution_count": 9,
   "metadata": {},
   "outputs": [],
   "source": [
    "% adding column for bias\n",
    "X_train_bias = [ones(size(X_train,1),1), X_train]'; % X_tr_b: MxN+1"
   ]
  },
  {
   "cell_type": "markdown",
   "metadata": {},
   "source": [
    "## ANN function:"
   ]
  },
  {
   "cell_type": "markdown",
   "metadata": {},
   "source": [
    "Feedfoward output:\n",
    "\n",
    "\n",
    "$ \\mathbf{u} = \\mathbf{Wx} $  \n",
    "$ \\mathbf{a} = f(\\mathbf{u}) = \\tanh(\\mathbf{u})$  \n",
    "$ y = \\sum \\mathbf{a}$\n",
    "\n",
    "$$\n",
    "    y = \\sum \\tanh{(\\mathbf{Wx})}\n",
    "$$"
   ]
  },
  {
   "cell_type": "markdown",
   "metadata": {},
   "source": [
    "## Backpropagation\n"
   ]
  },
  {
   "cell_type": "markdown",
   "metadata": {},
   "source": [
    "Gradient descent for minimizing error function J:\n",
    "\n",
    "$$\n",
    "\\mathbf{W^{N+1}} = \\mathbf{W^N} - \\alpha \\nabla{J} =  \\mathbf{W^N} - \\alpha \\frac{\\partial{J}}{\\partial{\\mathbf{W}}}\n",
    "$$"
   ]
  },
  {
   "cell_type": "markdown",
   "metadata": {},
   "source": [
    "Definig error function as squared error:\n",
    "\n",
    "$$\n",
    "J = e^2 = (s-y)^2\n",
    "$$"
   ]
  },
  {
   "cell_type": "markdown",
   "metadata": {},
   "source": [
    "Chain rule for finding gradient of J:\n",
    "\n",
    "$$\n",
    "\\frac{\\partial{J}}{\\partial{\\mathbf{W}}} = \\frac{\\partial{J}}{\\partial{e}} \\frac{\\partial{e}}{\\partial{y}} \\frac{\\partial{y}}{\\partial{\\mathbf{a}}} \\frac{\\partial{\\mathbf{a}}}{\\partial{\\mathbf{u}}} \\frac{\\partial{\\mathbf{u}}}{\\partial{\\mathbf{W}}} = 2 (-1) (1) \\mathbf{\\dot{F}(u)} \\mathbf{x} = \\boldsymbol{\\delta} \\mathbf {x}\n",
    "$$"
   ]
  },
  {
   "cell_type": "markdown",
   "metadata": {},
   "source": [
    "Where the array $\\mathbf{\\dot{F}(u)}$ is defined as:\n",
    "\n",
    "$$\n",
    "\\mathbf{\\dot{F}(u)} = \n",
    "\\begin{bmatrix}\n",
    "  \\dot{f}(u_1) & 0 & \\cdots  & 0 \\\\\n",
    "  0 & \\dot{f}(u_2) & \\cdots  & 0 \\\\\n",
    "  \\vdots   & \\vdots & \\ddots & \\vdots \\\\\n",
    "  0 & 0 & \\cdots  & \\dot{f}(u_O) \\\\\n",
    "\\end{bmatrix}\n",
    "$$\n",
    "\n",
    "and:\n",
    "\n",
    "$\\dot{f}(u) = \\frac{d \\tanh(u)}{du} = sech^2(u)$"
   ]
  },
  {
   "cell_type": "markdown",
   "metadata": {},
   "source": [
    "Error metric:\n",
    "\n",
    "$$\n",
    "MSE = \\frac{1}{M}\\sum_M e^2 = \\frac{1}{M}\\sum_M (s - y)^2\n",
    "$$"
   ]
  },
  {
   "cell_type": "code",
   "execution_count": 10,
   "metadata": {},
   "outputs": [],
   "source": [
    "function Delta = get_delta(u, s, y),\n",
    "    F_prime = zeros(size(U,2), size(U,2));\n",
    "    for i = 1:size(U,2),\n",
    "        for j = 1:size(U,2),\n",
    "            if i==j,\n",
    "                F_prime(i,j) = (sech(u(1)))^2; % F: OxO\n",
    "            end\n",
    "        end\n",
    "    end\n",
    "    \n",
    "    Delta = -2*F_prime*(s-y) % delta: OxO\n",
    "    \n",
    "end\n",
    "                \n",
    "                "
   ]
  },
  {
   "cell_type": "code",
   "execution_count": 11,
   "metadata": {},
   "outputs": [],
   "source": [
    "function MSE = backprop_step(x, d, W, alpha, epsilon),\n",
    "    % one step of backpropagation (one input x)\n",
    "    \n",
    "    % feedfoward\n",
    "    u = x*W';      % u: 1xO\n",
    "    a = tanh(u);   % output of hidden layer a: 1xO\n",
    "    y = sum(a);    % y: 1x1\n",
    "\n",
    "    % backpropagation\n",
    "    s = y - d;     % difference s: 1x1\n",
    "    Delta = get_delta(u, s, y); % delta: OxO\n",
    "    aux = delta*y';             % aux: OxN !\n",
    "    W = W - alpha.*aux; \n",
    "\n",
    "    % metric\n",
    "    MSE = (e'*e)/N;\n",
    "end"
   ]
  },
  {
   "cell_type": "code",
   "execution_count": 12,
   "metadata": {},
   "outputs": [
    {
     "name": "stdout",
     "output_type": "stream",
     "text": [
      "error: 'backprop' undefined near line 1 column 1\n"
     ]
    }
   ],
   "source": [
    "backprop()"
   ]
  }
 ],
 "metadata": {
  "kernelspec": {
   "display_name": "Octave",
   "language": "octave",
   "name": "octave"
  },
  "language_info": {
   "file_extension": ".m",
   "help_links": [
    {
     "text": "GNU Octave",
     "url": "https://www.gnu.org/software/octave/support.html"
    },
    {
     "text": "Octave Kernel",
     "url": "https://github.com/Calysto/octave_kernel"
    },
    {
     "text": "MetaKernel Magics",
     "url": "https://github.com/calysto/metakernel/blob/master/metakernel/magics/README.md"
    }
   ],
   "mimetype": "text/x-octave",
   "name": "octave",
   "version": "4.4.0"
  }
 },
 "nbformat": 4,
 "nbformat_minor": 2
}
