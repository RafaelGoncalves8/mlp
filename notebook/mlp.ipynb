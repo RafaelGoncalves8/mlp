{
 "cells": [
  {
   "cell_type": "code",
   "execution_count": 23,
   "metadata": {},
   "outputs": [],
   "source": [
    "M = 2; % number of features (lenght of input vector)\n",
    "N = 3; % number of labeled inputs\n",
    "O = 2; % number of neurons in the hidden layer"
   ]
  },
  {
   "cell_type": "code",
   "execution_count": 24,
   "metadata": {},
   "outputs": [],
   "source": [
    "% initial weights matrix as small random values\n",
    "W = rand([O M]).*0.01;"
   ]
  },
  {
   "cell_type": "markdown",
   "metadata": {},
   "source": [
    "$\n",
    "    \\mathbf{y} = \\sum \\tanh{(\\mathbf{Wx})}\n",
    "$"
   ]
  },
  {
   "cell_type": "markdown",
   "metadata": {},
   "source": [
    "$\n",
    "MSE = \\frac{1}{N}\\sum(\\mathbf{y} - \\mathbf{d})^2 = \\frac{1}{N}(\\mathbf{y} - \\mathbf{d})^T(\\mathbf{y} - \\mathbf{d})\n",
    "$"
   ]
  },
  {
   "cell_type": "code",
   "execution_count": 25,
   "metadata": {},
   "outputs": [],
   "source": [
    "function backprop(x, d, W, alpha, epsilon),\n",
    "    for i = 1:M, % cycle trhough all labeled data\n",
    " \n",
    "        while MSE > epsilon:\n",
    "            % feedfoward\n",
    "            u = W*x;\n",
    "            a = tanh(u); % output of hidden layer\n",
    "            y = sum(a);\n",
    "\n",
    "            % backpropagation\n",
    "            e = y - d;\n",
    "            delta = -2.*e.*sech(u).^2;% error of the hidden layer\n",
    "            W = W - alpha*delta.*y;\n",
    "\n",
    "            % metric\n",
    "            MSE = (e'*e)/N;\n",
    "            \n",
    "        end\n",
    "    end\n",
    "end"
   ]
  },
  {
   "cell_type": "code",
   "execution_count": null,
   "metadata": {},
   "outputs": [],
   "source": []
  }
 ],
 "metadata": {
  "kernelspec": {
   "display_name": "Octave",
   "language": "octave",
   "name": "octave"
  },
  "language_info": {
   "file_extension": ".m",
   "help_links": [
    {
     "text": "GNU Octave",
     "url": "https://www.gnu.org/software/octave/support.html"
    },
    {
     "text": "Octave Kernel",
     "url": "https://github.com/Calysto/octave_kernel"
    },
    {
     "text": "MetaKernel Magics",
     "url": "https://github.com/calysto/metakernel/blob/master/metakernel/magics/README.md"
    }
   ],
   "mimetype": "text/x-octave",
   "name": "octave",
   "version": "4.4.0"
  }
 },
 "nbformat": 4,
 "nbformat_minor": 2
}
