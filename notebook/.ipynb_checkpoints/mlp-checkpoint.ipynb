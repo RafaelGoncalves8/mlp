{
 "cells": [
  {
   "cell_type": "code",
   "execution_count": 11,
   "metadata": {},
   "outputs": [],
   "source": [
    "M = 2; % number of features (inputs)\n",
    "N = 3; % number of labeled inputs\n",
    "O = 2; % number of neurons in the hidden layer"
   ]
  },
  {
   "cell_type": "code",
   "execution_count": 14,
   "metadata": {},
   "outputs": [
    {
     "name": "stdout",
     "output_type": "stream",
     "text": [
      "W =\n",
      "\n",
      "   0.0021802   0.0081984\n",
      "   0.0041959   0.0099483\n",
      "\n"
     ]
    }
   ],
   "source": [
    "% initial weights matrix as small random values\n",
    "W = rand([O M]).*0.01"
   ]
  },
  {
   "cell_type": "markdown",
   "metadata": {},
   "source": [
    "$\n",
    "    \\mathbf{y} = \\sum \\tanh{(\\mathbf{Wx})}\n",
    "$"
   ]
  },
  {
   "cell_type": "code",
   "execution_count": 16,
   "metadata": {},
   "outputs": [],
   "source": [
    "% one hidden layer with perceptron neurons and one simple sumation output layer\n",
    "mlp = @(x, W) sum(tanh(W*x));"
   ]
  },
  {
   "cell_type": "markdown",
   "metadata": {},
   "source": [
    "$\n",
    "MSE = \\frac{1}{N}\\sum(\\mathbf{y} - \\mathbf{d})^2 = \\frac{1}{N}(\\mathbf{y} - \\mathbf{d})^T(\\mathbf{y} - \\mathbf{d})\n",
    "$"
   ]
  },
  {
   "cell_type": "code",
   "execution_count": null,
   "metadata": {},
   "outputs": [],
   "source": [
    "backprop(x, d, W, epsilon),\n",
    "    for i = 1:M, % cycle trhough all labeled data\n",
    "        \n",
    "        % feedfoward\n",
    "        y = mlp(x, W);\n",
    "        \n",
    "        % backpropagation\n",
    "        \n",
    "    "
   ]
  }
 ],
 "metadata": {
  "kernelspec": {
   "display_name": "Octave",
   "language": "octave",
   "name": "octave"
  },
  "language_info": {
   "file_extension": ".m",
   "help_links": [
    {
     "text": "GNU Octave",
     "url": "https://www.gnu.org/software/octave/support.html"
    },
    {
     "text": "Octave Kernel",
     "url": "https://github.com/Calysto/octave_kernel"
    },
    {
     "text": "MetaKernel Magics",
     "url": "https://github.com/calysto/metakernel/blob/master/metakernel/magics/README.md"
    }
   ],
   "mimetype": "text/x-octave",
   "name": "octave",
   "version": "4.4.0"
  }
 },
 "nbformat": 4,
 "nbformat_minor": 2
}
