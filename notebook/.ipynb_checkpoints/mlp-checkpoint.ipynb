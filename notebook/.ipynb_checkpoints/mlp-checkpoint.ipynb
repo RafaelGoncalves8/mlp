{
 "cells": [
  {
   "cell_type": "markdown",
   "metadata": {},
   "source": [
    "# Loading dataset"
   ]
  },
  {
   "cell_type": "code",
   "execution_count": 1,
   "metadata": {},
   "outputs": [],
   "source": [
    "%plot inline"
   ]
  },
  {
   "cell_type": "code",
   "execution_count": 2,
   "metadata": {},
   "outputs": [
    {
     "name": "stdout",
     "output_type": "stream",
     "text": [
      "Citation Request:\n",
      "  This dataset is public available for research. The details are described in [Cortez et al., 2009]. \n",
      "  Please include this citation if you plan to use this database:\n",
      "\n",
      "  P. Cortez, A. Cerdeira, F. Almeida, T. Matos and J. Reis. \n",
      "  Modeling wine preferences by data mining from physicochemical properties.\n",
      "  In Decision Support Systems, Elsevier, 47(4):547-553. ISSN: 0167-9236.\n",
      "\n",
      "  Available at: [@Elsevier] http://dx.doi.org/10.1016/j.dss.2009.05.016\n",
      "                [Pre-press (pdf)] http://www3.dsi.uminho.pt/pcortez/winequality09.pdf\n",
      "                [bib] http://www3.dsi.uminho.pt/pcortez/dss09.bib\n",
      "\n",
      "1. Title: Wine Quality \n",
      "\n",
      "2. Sources\n",
      "   Created by: Paulo Cortez (Univ. Minho), Antonio Cerdeira, Fernando Almeida, Telmo Matos and Jose Reis (CVRVV) @ 2009\n",
      "   \n",
      "3. Past Usage:\n",
      "\n",
      "  P. Cortez, A. Cerdeira, F. Almeida, T. Matos and J. Reis. \n",
      "  Modeling wine preferences by data mining from physicochemical properties.\n",
      "  In Decision Support Systems, Elsevier, 47(4):547-553. ISSN: 0167-9236.\n",
      "\n",
      "  In the above reference, two datasets were created, using red and white wine samples.\n",
      "  The inputs include objective tests (e.g. PH values) and the output is based on sensory data\n",
      "  (median of at least 3 evaluations made by wine experts). Each expert graded the wine quality \n",
      "  between 0 (very bad) and 10 (very excellent). Several data mining methods were applied to model\n",
      "  these datasets under a regression approach. The support vector machine model achieved the\n",
      "  best results. Several metrics were computed: MAD, confusion matrix for a fixed error tolerance (T),\n",
      "  etc. Also, we plot the relative importances of the input variables (as measured by a sensitivity\n",
      "  analysis procedure).\n",
      " \n",
      "4. Relevant Information:\n",
      "\n",
      "   The two datasets are related to red and white variants of the Portuguese \"Vinho Verde\" wine.\n",
      "   For more details, consult: http://www.vinhoverde.pt/en/ or the reference [Cortez et al., 2009].\n",
      "   Due to privacy and logistic issues, only physicochemical (inputs) and sensory (the output) variables \n",
      "   are available (e.g. there is no data about grape types, wine brand, wine selling price, etc.).\n",
      "\n",
      "   These datasets can be viewed as classification or regression tasks.\n",
      "   The classes are ordered and not balanced (e.g. there are munch more normal wines than\n",
      "   excellent or poor ones). Outlier detection algorithms could be used to detect the few excellent\n",
      "   or poor wines. Also, we are not sure if all input variables are relevant. So\n",
      "   it could be interesting to test feature selection methods. \n",
      "\n",
      "5. Number of Instances: red wine - 1599; white wine - 4898. \n",
      "\n",
      "6. Number of Attributes: 11 + output attribute\n",
      "  \n",
      "   Note: several of the attributes may be correlated, thus it makes sense to apply some sort of\n",
      "   feature selection.\n",
      "\n",
      "7. Attribute information:\n",
      "\n",
      "   For more information, read [Cortez et al., 2009].\n",
      "\n",
      "   Input variables (based on physicochemical tests):\n",
      "   1 - fixed acidity\n",
      "   2 - volatile acidity\n",
      "   3 - citric acid\n",
      "   4 - residual sugar\n",
      "   5 - chlorides\n",
      "   6 - free sulfur dioxide\n",
      "   7 - total sulfur dioxide\n",
      "   8 - density\n",
      "   9 - pH\n",
      "   10 - sulphates\n",
      "   11 - alcohol\n",
      "   Output variable (based on sensory data): \n",
      "   12 - quality (score between 0 and 10)\n",
      "\n",
      "8. Missing Attribute Values: None\n"
     ]
    }
   ],
   "source": [
    "!cat ../data/winequality.names"
   ]
  },
  {
   "cell_type": "code",
   "execution_count": 3,
   "metadata": {},
   "outputs": [
    {
     "name": "stdout",
     "output_type": "stream",
     "text": [
      "\"fixed acidity\";\"volatile acidity\";\"citric acid\";\"residual sugar\";\"chlorides\";\"free sulfur dioxide\";\"total sulfur dioxide\";\"density\";\"pH\";\"sulphates\";\"alcohol\";\"quality\"\n",
      "7.4;0.7;0;1.9;0.076;11;34;0.9978;3.51;0.56;9.4;5\n",
      "7.8;0.88;0;2.6;0.098;25;67;0.9968;3.2;0.68;9.8;5\n",
      "7.8;0.76;0.04;2.3;0.092;15;54;0.997;3.26;0.65;9.8;5\n",
      "11.2;0.28;0.56;1.9;0.075;17;60;0.998;3.16;0.58;9.8;6\n",
      "7.4;0.7;0;1.9;0.076;11;34;0.9978;3.51;0.56;9.4;5\n",
      "7.4;0.66;0;1.8;0.075;13;40;0.9978;3.51;0.56;9.4;5\n",
      "7.9;0.6;0.06;1.6;0.069;15;59;0.9964;3.3;0.46;9.4;5\n",
      "7.3;0.65;0;1.2;0.065;15;21;0.9946;3.39;0.47;10;7\n",
      "7.8;0.58;0.02;2;0.073;9;18;0.9968;3.36;0.57;9.5;7\n"
     ]
    }
   ],
   "source": [
    "!head ../data/winequality-red.csv"
   ]
  },
  {
   "cell_type": "code",
   "execution_count": 4,
   "metadata": {},
   "outputs": [
    {
     "name": "stdout",
     "output_type": "stream",
     "text": [
      "ans =\n",
      "\n",
      "   1599     12\n",
      "\n"
     ]
    }
   ],
   "source": [
    "data = dlmread(\"../data/winequality-red.csv\", \";\" ,1, 0); % skip feature names\n",
    "size(data)"
   ]
  },
  {
   "cell_type": "markdown",
   "metadata": {},
   "source": [
    "# Separating into training and testing set"
   ]
  },
  {
   "cell_type": "code",
   "execution_count": 5,
   "metadata": {},
   "outputs": [],
   "source": [
    "X = data(:,1:11); % inputs\n",
    "y = data(:, 12);  % labels"
   ]
  },
  {
   "cell_type": "code",
   "execution_count": 6,
   "metadata": {},
   "outputs": [],
   "source": [
    "X_train = X(1:1119, :); % 70% for trainig\n",
    "y_train = y(1:1119);\n",
    "\n",
    "X_test = X(1120:1599, :);  % 30% for test\n",
    "y_test = y(1120:1599);"
   ]
  },
  {
   "cell_type": "markdown",
   "metadata": {},
   "source": [
    "# ANN Architecture"
   ]
  },
  {
   "cell_type": "markdown",
   "metadata": {},
   "source": [
    "![Diagram](../Diagram.png)"
   ]
  },
  {
   "cell_type": "code",
   "execution_count": 7,
   "metadata": {},
   "outputs": [
    {
     "name": "stdout",
     "output_type": "stream",
     "text": [
      "M =  1119\n",
      "N =  11\n"
     ]
    }
   ],
   "source": [
    "% M number of labeled inputs\n",
    "% N number of features (lenght of input vector)\n",
    "[M, N] = size(X_train)"
   ]
  },
  {
   "cell_type": "code",
   "execution_count": 8,
   "metadata": {},
   "outputs": [
    {
     "name": "stdout",
     "output_type": "stream",
     "text": [
      "O =  10\n"
     ]
    }
   ],
   "source": [
    "O = 10 % number of neurons in the hidden layer"
   ]
  },
  {
   "cell_type": "code",
   "execution_count": 9,
   "metadata": {},
   "outputs": [],
   "source": [
    "% initial weights matrix as small random values\n",
    "W = rand([O N]).*0.01; % W: OxN"
   ]
  },
  {
   "cell_type": "code",
   "execution_count": 10,
   "metadata": {},
   "outputs": [],
   "source": [
    "% adding column for bias\n",
    "X_train_bias = [ones(size(X_train,1),1), X_train]'; % X_tr_b: MxN+1\n",
    "W_bias = [ones(size(W,1),1), W];"
   ]
  },
  {
   "cell_type": "markdown",
   "metadata": {},
   "source": [
    "## ANN function:"
   ]
  },
  {
   "cell_type": "markdown",
   "metadata": {},
   "source": [
    "Feedfoward output:\n",
    "\n",
    "\n",
    "$ \\mathbf{u} = \\mathbf{Wx} $  \n",
    "$ \\mathbf{a} = f(\\mathbf{u}) = \\tanh(\\mathbf{u})$  \n",
    "$ y = \\sum \\mathbf{a}$\n",
    "\n",
    "$$\n",
    "    y = \\sum \\tanh{(\\mathbf{Wx})}\n",
    "$$"
   ]
  },
  {
   "cell_type": "markdown",
   "metadata": {},
   "source": [
    "## Backpropagation\n"
   ]
  },
  {
   "cell_type": "markdown",
   "metadata": {},
   "source": [
    "Gradient descent for minimizing error function J:\n",
    "\n",
    "$$\n",
    "\\mathbf{W^{N+1}} = \\mathbf{W^N} - \\alpha \\nabla{J} =  \\mathbf{W^N} - \\alpha \\frac{\\partial{J}}{\\partial{\\mathbf{W}}}\n",
    "$$"
   ]
  },
  {
   "cell_type": "markdown",
   "metadata": {},
   "source": [
    "Definig error function as squared error:\n",
    "\n",
    "$$\n",
    "J = e^2 = (s-y)^2\n",
    "$$"
   ]
  },
  {
   "cell_type": "markdown",
   "metadata": {},
   "source": [
    "Chain rule for finding gradient of J:\n",
    "\n",
    "$$\n",
    "\\frac{\\partial{J}}{\\partial{\\mathbf{W}}} = \\frac{\\partial{J}}{\\partial{e}} \\frac{\\partial{e}}{\\partial{y}} \\frac{\\partial{y}}{\\partial{\\mathbf{a}}} \\frac{\\partial{\\mathbf{a}}}{\\partial{\\mathbf{u}}} \\frac{\\partial{\\mathbf{u}}}{\\partial{\\mathbf{W}}} = 2 (s - y) (-1) (1) \\mathbf{\\dot{F}(u)} \\mathbf{x} = \\boldsymbol{\\delta} \\mathbf {x}\n",
    "$$"
   ]
  },
  {
   "cell_type": "markdown",
   "metadata": {},
   "source": [
    "Where the array $\\mathbf{\\dot{F}(u)}$ is defined as:\n",
    "\n",
    "$$\n",
    "\\mathbf{\\dot{F}(u)} = \n",
    "\\begin{bmatrix}\n",
    "  \\dot{f}(u_1) & 0 & \\cdots  & 0 \\\\\n",
    "  0 & \\dot{f}(u_2) & \\cdots  & 0 \\\\\n",
    "  \\vdots   & \\vdots & \\ddots & \\vdots \\\\\n",
    "  0 & 0 & \\cdots  & \\dot{f}(u_O) \\\\\n",
    "\\end{bmatrix}\n",
    "$$\n",
    "\n",
    "and:\n",
    "\n",
    "$\\dot{f}(u) = \\frac{d \\tanh(u)}{du} = sech^2(u)$"
   ]
  },
  {
   "cell_type": "markdown",
   "metadata": {},
   "source": [
    "Error metric:\n",
    "\n",
    "$$\n",
    "MSE = \\frac{1}{M}\\sum_M e^2 = \\frac{1}{M}\\sum_M (s - y)^2\n",
    "$$"
   ]
  },
  {
   "cell_type": "code",
   "execution_count": 11,
   "metadata": {},
   "outputs": [],
   "source": [
    "function Delta = get_delta(u, s, y),\n",
    "    F_prime = zeros(size(u,2), size(u,2));\n",
    "    for i = 1:size(u,2),\n",
    "        for j = 1:size(u,2),\n",
    "            if i==j,\n",
    "                F_prime(i,j) = (sech(u(1)))^2; % F: OxO\n",
    "            end\n",
    "        end\n",
    "    end\n",
    "    \n",
    "    Delta = -2*F_prime*(s-y); % delta: OxO\n",
    "    \n",
    "end\n",
    "                \n",
    "                "
   ]
  },
  {
   "cell_type": "code",
   "execution_count": 12,
   "metadata": {},
   "outputs": [],
   "source": [
    "function [W, MSE] = backprop_step(x, s, W, alpha),\n",
    "    % one step of backpropagation (one input x)\n",
    "    \n",
    "    % W: NxO\n",
    "    % x: 1xN\n",
    "    N = size(x,1);\n",
    "    \n",
    "    % feedfoward\n",
    "    u = x*W';      % u: 1xO\n",
    "    a = tanh(u);   % output of hidden layer a: 1xO\n",
    "    y = sum(a);    % y: 1x1\n",
    "    \n",
    "    y = round(y);  % the problem use integers to classify the wine quality\n",
    "\n",
    "    % backpropagation\n",
    "    e = s - y;     % difference s: 1x1\n",
    "    Delta = get_delta(u, s, y); % delta: OxO\n",
    "    X = ones(size(Delta), 1)*x;  % X = OxN --- ???\n",
    "    aux = Delta*X;             % aux: OxN !\n",
    "                               % aux_ij = -2(s-y)f'(u_j)x_i        \n",
    "    W = W - alpha.*aux; \n",
    "\n",
    "    % metric\n",
    "    MSE = (e*e)/N;\n",
    "end"
   ]
  },
  {
   "cell_type": "code",
   "execution_count": 13,
   "metadata": {},
   "outputs": [],
   "source": [
    "epsilon = M;"
   ]
  },
  {
   "cell_type": "markdown",
   "metadata": {},
   "source": []
  },
  {
   "cell_type": "code",
   "execution_count": 17,
   "metadata": {},
   "outputs": [
    {
     "name": "stdout",
     "output_type": "stream",
     "text": [
      "error: 'mse_vec' undefined near line 7 column 16\n"
     ]
    }
   ],
   "source": [
    "while cum_mse > epsilon,\n",
    "    cum_mse = 0;\n",
    "    for i=1:M,\n",
    "        [W_bias, mse] = backprop_step(X_train_bias(:,i)', y_train(i), W_bias, 0.00003);\n",
    "        cum_mse = cum_mse +  mse;\n",
    "    end\n",
    "    mse_vec = [mse_vec; cum_mse];\n",
    "end"
   ]
  },
  {
   "cell_type": "code",
   "execution_count": 18,
   "metadata": {},
   "outputs": [
    {
     "name": "stdout",
     "output_type": "stream",
     "text": [
      "error: 'mse_vec' undefined near line 1 column 6\n"
     ]
    }
   ],
   "source": [
    "plot(mse_vec)"
   ]
  },
  {
   "cell_type": "code",
   "execution_count": 19,
   "metadata": {},
   "outputs": [
    {
     "name": "stdout",
     "output_type": "stream",
     "text": [
      "W_bias =\n",
      "\n",
      " Columns 1 through 5:\n",
      "\n",
      "   0.9948404358  -0.0231346765   0.0032638879   0.0051937634  -0.0054842297\n",
      "   0.9948404358  -0.0180473844   0.0017517504   0.0046646542  -0.0012233812\n",
      "   0.9948404358  -0.0155516445  -0.0027539549   0.0082380054  -0.0024828133\n",
      "   0.9948404358  -0.0156072023  -0.0038698752   0.0019353302  -0.0058282535\n",
      "   0.9948404358  -0.0211257986   0.0016945939   0.0112002152  -0.0060525879\n",
      "   0.9948404358  -0.0211278278  -0.0052799140   0.0034276695   0.0022134504\n",
      "   0.9948404358  -0.0185910697  -0.0050436193   0.0020579823  -0.0005346447\n",
      "   0.9948404358  -0.0171169476   0.0018439432   0.0107596276   0.0021980817\n",
      "   0.9948404358  -0.0158363452  -0.0031773850   0.0036472899   0.0000606439\n",
      "   0.9948404358  -0.0160004610  -0.0030628604   0.0077122590   0.0015750301\n",
      "\n",
      " Columns 6 through 10:\n",
      "\n",
      "   0.0091668659  -0.0029482741   0.0084882204   0.0046926148  -0.0141057013\n",
      "   0.0089671317  -0.0044733548   0.0076854915   0.0005692385  -0.0142416273\n",
      "   0.0010877101   0.0008268793   0.0094214017   0.0016526102  -0.0106178094\n",
      "   0.0013850720   0.0030031607   0.0026399080   0.0009241951  -0.0155094100\n",
      "   0.0089627923  -0.0052286271   0.0062703268  -0.0046884413  -0.0126694002\n",
      "   0.0060769406   0.0039750024   0.0071217507   0.0000090827  -0.0146644032\n",
      "   0.0058172214   0.0000874915   0.0073026006   0.0008753256  -0.0155324065\n",
      "   0.0032533726  -0.0034421319   0.0066652036  -0.0009624074  -0.0087787011\n",
      "   0.0055447076   0.0012092540   0.0017424093   0.0003834917  -0.0174483583\n",
      "   0.0013455740   0.0028762640   0.0045510441  -0.0032011962  -0.0156344681\n",
      "\n",
      " Columns 11 and 12:\n",
      "\n",
      "   0.0059471141  -0.0209558931\n",
      "   0.0011083239  -0.0235351267\n",
      "   0.0012450484  -0.0195644271\n",
      "  -0.0008305802  -0.0216636269\n",
      "   0.0076552587  -0.0223607140\n",
      "  -0.0002702750  -0.0233724071\n",
      "   0.0021640456  -0.0226755436\n",
      "  -0.0000852644  -0.0179223492\n",
      "   0.0058844600  -0.0255234937\n",
      "   0.0060396273  -0.0188500272\n",
      "\n"
     ]
    }
   ],
   "source": [
    "W_bias"
   ]
  },
  {
   "cell_type": "code",
   "execution_count": null,
   "metadata": {},
   "outputs": [],
   "source": []
  }
 ],
 "metadata": {
  "kernelspec": {
   "display_name": "Octave",
   "language": "octave",
   "name": "octave"
  },
  "language_info": {
   "file_extension": ".m",
   "help_links": [
    {
     "text": "GNU Octave",
     "url": "https://www.gnu.org/software/octave/support.html"
    },
    {
     "text": "Octave Kernel",
     "url": "https://github.com/Calysto/octave_kernel"
    },
    {
     "text": "MetaKernel Magics",
     "url": "https://github.com/calysto/metakernel/blob/master/metakernel/magics/README.md"
    }
   ],
   "mimetype": "text/x-octave",
   "name": "octave",
   "version": "4.4.0"
  }
 },
 "nbformat": 4,
 "nbformat_minor": 2
}
