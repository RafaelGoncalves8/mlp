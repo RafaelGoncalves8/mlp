{
 "cells": [
  {
   "cell_type": "code",
   "execution_count": 5,
   "metadata": {},
   "outputs": [
    {
     "name": "stdout",
     "output_type": "stream",
     "text": [
      "Part_1.mat\r\n"
     ]
    }
   ],
   "source": [
    "!ls ../data/blood_pression_regression/"
   ]
  },
  {
   "cell_type": "code",
   "execution_count": 2,
   "metadata": {},
   "outputs": [
    {
     "name": "stdout",
     "output_type": "stream",
     "text": [
      "HDF5-DIAG: Error detected in HDF5 (1.10.2) thread 0:\n",
      "  #000: H5F.c line 511 in H5Fopen(): unable to open file\n",
      "    major: File accessibilty\n",
      "    minor: Unable to open file\n",
      "  #001: H5Fint.c line 1604 in H5F_open(): unable to read superblock\n",
      "    major: File accessibilty\n",
      "    minor: Read failed\n",
      "  #002: H5Fsuper.c line 630 in H5F__super_read(): truncated file: eof = 347209216, sblock->base_addr = 512, stored_eof = 851344467\n",
      "    major: File accessibilty\n",
      "    minor: File has been truncated\n",
      "error: load: unable to open input file '../data/blood_pression_regression/Part_1.mat'\n"
     ]
    }
   ],
   "source": [
    "load(\"../data/blood_pression_regression/Part_1.mat\")"
   ]
  },
  {
   "cell_type": "code",
   "execution_count": null,
   "metadata": {},
   "outputs": [],
   "source": []
  }
 ],
 "metadata": {
  "kernelspec": {
   "display_name": "Octave",
   "language": "octave",
   "name": "octave"
  },
  "language_info": {
   "file_extension": ".m",
   "help_links": [
    {
     "text": "GNU Octave",
     "url": "https://www.gnu.org/software/octave/support.html"
    },
    {
     "text": "Octave Kernel",
     "url": "https://github.com/Calysto/octave_kernel"
    },
    {
     "text": "MetaKernel Magics",
     "url": "https://github.com/calysto/metakernel/blob/master/metakernel/magics/README.md"
    }
   ],
   "mimetype": "text/x-octave",
   "name": "octave",
   "version": "4.4.1"
  }
 },
 "nbformat": 4,
 "nbformat_minor": 2
}
